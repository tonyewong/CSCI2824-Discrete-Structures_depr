{
  "nbformat": 4,
  "nbformat_minor": 0,
  "metadata": {
    "colab": {
      "name": "nb01_introduction.ipynb",
      "provenance": [],
      "collapsed_sections": [],
      "authorship_tag": "ABX9TyN/mUKS5C7vrGI/8R58mHiy",
      "include_colab_link": true
    },
    "kernelspec": {
      "name": "python3",
      "display_name": "Python 3"
    }
  },
  "cells": [
    {
      "cell_type": "markdown",
      "metadata": {
        "id": "view-in-github",
        "colab_type": "text"
      },
      "source": [
        "<a href=\"https://colab.research.google.com/github/tonyewong/CSCI2824-Discrete-Structures_depr/blob/master/nb01_introduction.ipynb\" target=\"_parent\"><img src=\"https://colab.research.google.com/assets/colab-badge.svg\" alt=\"Open In Colab\"/></a>"
      ]
    },
    {
      "cell_type": "markdown",
      "metadata": {
        "id": "Kjkf_19ZLqgs",
        "colab_type": "text"
      },
      "source": [
        "# Notebook 1: Introduction to Jupyter and Python"
      ]
    },
    {
      "cell_type": "markdown",
      "metadata": {
        "id": "Qs39YOWoNS6m",
        "colab_type": "text"
      },
      "source": [
        "Blablabla"
      ]
    },
    {
      "cell_type": "code",
      "metadata": {
        "id": "RoqUWn5DFBZJ",
        "colab_type": "code",
        "colab": {}
      },
      "source": [
        ""
      ],
      "execution_count": null,
      "outputs": []
    }
  ]
}